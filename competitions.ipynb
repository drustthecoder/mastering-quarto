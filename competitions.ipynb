{
 "cells": [
  {
   "cell_type": "code",
   "execution_count": 3,
   "metadata": {},
   "outputs": [],
   "source": [
    "from shortSighted import AgentShortSighted\n",
    "from agentRL import AgentRL\n",
    "from main import RandomPlayer\n",
    "from customClasses import evaluate\n",
    "from quarto import Quarto\n",
    "from MonteCarlo import AgentMonteCarlo"
   ]
  },
  {
   "cell_type": "code",
   "execution_count": 4,
   "metadata": {},
   "outputs": [],
   "source": [
    "game = Quarto()"
   ]
  },
  {
   "cell_type": "code",
   "execution_count": 6,
   "metadata": {},
   "outputs": [
    {
     "name": "stdout",
     "output_type": "stream",
     "text": [
      "AgentRL vs. RandomPlayer\n",
      "AgentRL won: 0.72, RandomPlayer won: 0.27, ties: 0.01, played 1000 times!          \n",
      "----------\n"
     ]
    }
   ],
   "source": [
    "game.reset()\n",
    "game.set_players((AgentRL(game), RandomPlayer(game)))\n",
    "evaluate(game, 1000)"
   ]
  },
  {
   "cell_type": "code",
   "execution_count": 7,
   "metadata": {},
   "outputs": [
    {
     "name": "stdout",
     "output_type": "stream",
     "text": [
      "AgentShortSighted vs. RandomPlayer\n",
      "AgentShortSighted won: 0.99, RandomPlayer won: 0.01, ties: 0.0, played 1000 times!          \n",
      "----------\n"
     ]
    }
   ],
   "source": [
    "game.reset()\n",
    "game.set_players((AgentShortSighted(game), RandomPlayer(game)))\n",
    "evaluate(game, 1000)"
   ]
  },
  {
   "cell_type": "code",
   "execution_count": 8,
   "metadata": {},
   "outputs": [
    {
     "name": "stdout",
     "output_type": "stream",
     "text": [
      "AgentMonteCarlo vs. AgentShortSighted\n",
      "AgentMonteCarlo won: 0.53, AgentShortSighted won: 0.47, ties: 0.0, played 100 times!          \n",
      "----------\n"
     ]
    }
   ],
   "source": [
    "game.reset()\n",
    "game.set_players((AgentMonteCarlo(game), AgentShortSighted(game)))\n",
    "evaluate(game, 100)"
   ]
  },
  {
   "cell_type": "code",
   "execution_count": 9,
   "metadata": {},
   "outputs": [
    {
     "name": "stdout",
     "output_type": "stream",
     "text": [
      "AgentShortSighted vs. RandomPlayer\n",
      "AgentShortSighted won: 0.71, RandomPlayer won: 0.28, ties: 0.01, played 1000 times!          \n",
      "----------\n"
     ]
    }
   ],
   "source": [
    "game.reset()\n",
    "game.set_players((AgentShortSighted(game, random_place_piece=True), RandomPlayer(game)))\n",
    "evaluate(game, 1000)"
   ]
  }
 ],
 "metadata": {
  "kernelspec": {
   "display_name": "Python 3",
   "language": "python",
   "name": "python3"
  },
  "language_info": {
   "codemirror_mode": {
    "name": "ipython",
    "version": 3
   },
   "file_extension": ".py",
   "mimetype": "text/x-python",
   "name": "python",
   "nbconvert_exporter": "python",
   "pygments_lexer": "ipython3",
   "version": "3.11.1"
  },
  "orig_nbformat": 4,
  "vscode": {
   "interpreter": {
    "hash": "eeee815cb35114406b789900dc12caa2539cc1c6ee2eab1a2ebf4d36fd10df44"
   }
  }
 },
 "nbformat": 4,
 "nbformat_minor": 2
}
