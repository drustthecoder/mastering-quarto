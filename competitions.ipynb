{
 "cells": [
  {
   "cell_type": "code",
   "execution_count": 5,
   "metadata": {},
   "outputs": [],
   "source": [
    "from AgentShortSighted import AgentShortSighted\n",
    "from AgentRL import AgentRL\n",
    "from AgentMonteCarlo import AgentMonteCarlo\n",
    "from AgentRandom import AgentRandom\n",
    "from evaluate import evaluate\n",
    "from quarto import Quarto"
   ]
  },
  {
   "cell_type": "code",
   "execution_count": 6,
   "metadata": {},
   "outputs": [],
   "source": [
    "game = Quarto()"
   ]
  },
  {
   "cell_type": "code",
   "execution_count": 7,
   "metadata": {},
   "outputs": [],
   "source": [
    "# game.reset()\n",
    "# game.set_players((AgentShortSighted(game), AgentShortSighted(game)))\n",
    "# evaluate(game, 1000)"
   ]
  },
  {
   "cell_type": "code",
   "execution_count": 8,
   "metadata": {},
   "outputs": [
    {
     "name": "stdout",
     "output_type": "stream",
     "text": [
      "AgentRandom vs. AgentRL\n",
      "AgentRandom won: 0.31, AgentRL won: 0.67, ties: 0.02, played 1000 times!          \n",
      "----------\n"
     ]
    }
   ],
   "source": [
    "game.reset()\n",
    "game.set_players((AgentRandom(game), AgentRL(game)))\n",
    "evaluate(game, 1000)"
   ]
  },
  {
   "cell_type": "code",
   "execution_count": 9,
   "metadata": {},
   "outputs": [],
   "source": [
    "# game.reset()\n",
    "# game.set_players((AgentMonteCarlo(game), AgentShortSighted(game)))\n",
    "# evaluate(game, 20)"
   ]
  },
  {
   "cell_type": "code",
   "execution_count": 10,
   "metadata": {},
   "outputs": [],
   "source": [
    "# game.reset()\n",
    "# game.set_players((AgentShortSighted(game, random_place_piece=True), RandomPlayer(game)))\n",
    "# evaluate(game, 100)"
   ]
  }
 ],
 "metadata": {
  "kernelspec": {
   "display_name": "Python 3",
   "language": "python",
   "name": "python3"
  },
  "language_info": {
   "codemirror_mode": {
    "name": "ipython",
    "version": 3
   },
   "file_extension": ".py",
   "mimetype": "text/x-python",
   "name": "python",
   "nbconvert_exporter": "python",
   "pygments_lexer": "ipython3",
   "version": "3.11.1"
  },
  "orig_nbformat": 4,
  "vscode": {
   "interpreter": {
    "hash": "eeee815cb35114406b789900dc12caa2539cc1c6ee2eab1a2ebf4d36fd10df44"
   }
  }
 },
 "nbformat": 4,
 "nbformat_minor": 2
}
