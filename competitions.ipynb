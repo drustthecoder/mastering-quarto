{
 "cells": [
  {
   "cell_type": "code",
   "execution_count": 127,
   "metadata": {},
   "outputs": [],
   "source": [
    "from agents.AgentShortSighted import AgentShortSighted\n",
    "from agents.AgentRL import AgentRL\n",
    "from agents.AgentMonteCarlo import AgentMonteCarlo\n",
    "from agents.AgentRandom import AgentRandom\n",
    "from evaluate import evaluate\n",
    "from quarto import Quarto"
   ]
  },
  {
   "cell_type": "code",
   "execution_count": 128,
   "metadata": {},
   "outputs": [],
   "source": [
    "game = Quarto()"
   ]
  },
  {
   "cell_type": "code",
   "execution_count": 129,
   "metadata": {},
   "outputs": [],
   "source": [
    "# game.reset()\n",
    "# game.set_players((AgentShortSighted(game), AgentShortSighted(game)))\n",
    "# evaluate(game, 1000)"
   ]
  },
  {
   "cell_type": "code",
   "execution_count": 130,
   "metadata": {},
   "outputs": [
    {
     "name": "stdout",
     "output_type": "stream",
     "text": [
      "AgentMonteCarlo vs. AgentRL\n",
      "AgentMonteCarlo won: 1.0, AgentRL won: 0.0, ties: 0.0, played 10 times!          \n",
      "----------\n"
     ]
    }
   ],
   "source": [
    "game.reset()\n",
    "game.set_players((AgentMonteCarlo(game, time_limit=2), AgentRL(game)))\n",
    "evaluate(game, 10)"
   ]
  },
  {
   "cell_type": "code",
   "execution_count": 131,
   "metadata": {},
   "outputs": [],
   "source": [
    "# game.reset()\n",
    "# game.set_players((AgentMonteCarlo(game), AgentShortSighted(game)))\n",
    "# evaluate(game, 20)"
   ]
  },
  {
   "cell_type": "code",
   "execution_count": 132,
   "metadata": {},
   "outputs": [],
   "source": [
    "# game.reset()\n",
    "# game.set_players((AgentShortSighted(game, random_place_piece=True), RandomPlayer(game)))\n",
    "# evaluate(game, 100)"
   ]
  }
 ],
 "metadata": {
  "kernelspec": {
   "display_name": "Python 3",
   "language": "python",
   "name": "python3"
  },
  "language_info": {
   "codemirror_mode": {
    "name": "ipython",
    "version": 3
   },
   "file_extension": ".py",
   "mimetype": "text/x-python",
   "name": "python",
   "nbconvert_exporter": "python",
   "pygments_lexer": "ipython3",
   "version": "3.11.1"
  },
  "orig_nbformat": 4,
  "vscode": {
   "interpreter": {
    "hash": "eeee815cb35114406b789900dc12caa2539cc1c6ee2eab1a2ebf4d36fd10df44"
   }
  }
 },
 "nbformat": 4,
 "nbformat_minor": 2
}
